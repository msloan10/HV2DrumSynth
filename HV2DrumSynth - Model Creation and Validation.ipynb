{
 "cells": [
  {
   "cell_type": "code",
   "execution_count": 1,
   "id": "4092dcf8",
   "metadata": {},
   "outputs": [
    {
     "name": "stdout",
     "output_type": "stream",
     "text": [
      "WARNING:tensorflow:From C:\\Users\\micae\\anaconda3\\Lib\\site-packages\\keras\\src\\losses.py:2976: The name tf.losses.sparse_softmax_cross_entropy is deprecated. Please use tf.compat.v1.losses.sparse_softmax_cross_entropy instead.\n",
      "\n"
     ]
    }
   ],
   "source": [
    "import os\n",
    "import numpy as np\n",
    "import pandas as pd\n",
    "import matplotlib.pyplot as plt\n",
    "import math\n",
    "import librosa \n",
    "import keras.preprocessing\n",
    "import cv2\n",
    "import tensorflow as tf\n",
    "\n",
    "from sklearn.preprocessing import LabelEncoder  \n",
    "\n",
    "#from tensorflow.keras.utils import to_categorical #make image label categorical \n",
    "from sklearn.model_selection import train_test_split # split into datastes "
   ]
  },
  {
   "cell_type": "code",
   "execution_count": 2,
   "id": "83259734",
   "metadata": {},
   "outputs": [
    {
     "data": {
      "text/html": [
       "<div>\n",
       "<style scoped>\n",
       "    .dataframe tbody tr th:only-of-type {\n",
       "        vertical-align: middle;\n",
       "    }\n",
       "\n",
       "    .dataframe tbody tr th {\n",
       "        vertical-align: top;\n",
       "    }\n",
       "\n",
       "    .dataframe thead th {\n",
       "        text-align: right;\n",
       "    }\n",
       "</style>\n",
       "<table border=\"1\" class=\"dataframe\">\n",
       "  <thead>\n",
       "    <tr style=\"text-align: right;\">\n",
       "      <th></th>\n",
       "      <th>Mapped Audio File</th>\n",
       "      <th>Modality</th>\n",
       "      <th>Participant</th>\n",
       "      <th>Class</th>\n",
       "      <th>Waveform Array</th>\n",
       "      <th>Sample Rate (Hz)</th>\n",
       "      <th>OG Duration (s)</th>\n",
       "      <th>Trimmed Waveform</th>\n",
       "      <th>Trimmed Duration (s)</th>\n",
       "      <th>Index</th>\n",
       "    </tr>\n",
       "  </thead>\n",
       "  <tbody>\n",
       "    <tr>\n",
       "      <th>0</th>\n",
       "      <td>P15_Kick_Fixed</td>\n",
       "      <td>Fixed</td>\n",
       "      <td>P15</td>\n",
       "      <td>kd</td>\n",
       "      <td>[-0.00053592 -0.00061145 -0.00074712 ...  0.00...</td>\n",
       "      <td>22050</td>\n",
       "      <td>0.507755</td>\n",
       "      <td>[-0.00053592 -0.00061145 -0.00074712 ... -0.00...</td>\n",
       "      <td>0.278639</td>\n",
       "      <td>0</td>\n",
       "    </tr>\n",
       "    <tr>\n",
       "      <th>1</th>\n",
       "      <td>P15_Kick_Fixed</td>\n",
       "      <td>Fixed</td>\n",
       "      <td>P15</td>\n",
       "      <td>kd</td>\n",
       "      <td>[ 0.00015334  0.00053129  0.00067512 ... -0.00...</td>\n",
       "      <td>22050</td>\n",
       "      <td>0.132472</td>\n",
       "      <td>[ 0.00015334  0.00053129  0.00067512 ... -0.00...</td>\n",
       "      <td>0.132472</td>\n",
       "      <td>1</td>\n",
       "    </tr>\n",
       "    <tr>\n",
       "      <th>2</th>\n",
       "      <td>P15_Kick_Fixed</td>\n",
       "      <td>Fixed</td>\n",
       "      <td>P15</td>\n",
       "      <td>kd</td>\n",
       "      <td>[-0.00453238 -0.00441207 -0.00418556 ... -0.00...</td>\n",
       "      <td>22050</td>\n",
       "      <td>0.638549</td>\n",
       "      <td>[-0.00453238 -0.00441207 -0.00418556 ... -0.00...</td>\n",
       "      <td>0.278639</td>\n",
       "      <td>2</td>\n",
       "    </tr>\n",
       "    <tr>\n",
       "      <th>3</th>\n",
       "      <td>P15_Kick_Fixed</td>\n",
       "      <td>Fixed</td>\n",
       "      <td>P15</td>\n",
       "      <td>kd</td>\n",
       "      <td>[ 3.3045188e-05  1.8108636e-05  1.2554787e-04 ...</td>\n",
       "      <td>22050</td>\n",
       "      <td>0.544218</td>\n",
       "      <td>[3.3045188e-05 1.8108636e-05 1.2554787e-04 ......</td>\n",
       "      <td>0.301859</td>\n",
       "      <td>3</td>\n",
       "    </tr>\n",
       "    <tr>\n",
       "      <th>4</th>\n",
       "      <td>P15_Kick_Fixed</td>\n",
       "      <td>Fixed</td>\n",
       "      <td>P15</td>\n",
       "      <td>kd</td>\n",
       "      <td>[-0.00120923 -0.00235417 -0.00239738 ... -0.00...</td>\n",
       "      <td>22050</td>\n",
       "      <td>0.125170</td>\n",
       "      <td>[-0.00120923 -0.00235417 -0.00239738 ... -0.00...</td>\n",
       "      <td>0.125170</td>\n",
       "      <td>4</td>\n",
       "    </tr>\n",
       "  </tbody>\n",
       "</table>\n",
       "</div>"
      ],
      "text/plain": [
       "  Mapped Audio File Modality Participant Class  \\\n",
       "0    P15_Kick_Fixed    Fixed         P15    kd   \n",
       "1    P15_Kick_Fixed    Fixed         P15    kd   \n",
       "2    P15_Kick_Fixed    Fixed         P15    kd   \n",
       "3    P15_Kick_Fixed    Fixed         P15    kd   \n",
       "4    P15_Kick_Fixed    Fixed         P15    kd   \n",
       "\n",
       "                                      Waveform Array  Sample Rate (Hz)  \\\n",
       "0  [-0.00053592 -0.00061145 -0.00074712 ...  0.00...             22050   \n",
       "1  [ 0.00015334  0.00053129  0.00067512 ... -0.00...             22050   \n",
       "2  [-0.00453238 -0.00441207 -0.00418556 ... -0.00...             22050   \n",
       "3  [ 3.3045188e-05  1.8108636e-05  1.2554787e-04 ...             22050   \n",
       "4  [-0.00120923 -0.00235417 -0.00239738 ... -0.00...             22050   \n",
       "\n",
       "   OG Duration (s)                                   Trimmed Waveform  \\\n",
       "0         0.507755  [-0.00053592 -0.00061145 -0.00074712 ... -0.00...   \n",
       "1         0.132472  [ 0.00015334  0.00053129  0.00067512 ... -0.00...   \n",
       "2         0.638549  [-0.00453238 -0.00441207 -0.00418556 ... -0.00...   \n",
       "3         0.544218  [3.3045188e-05 1.8108636e-05 1.2554787e-04 ......   \n",
       "4         0.125170  [-0.00120923 -0.00235417 -0.00239738 ... -0.00...   \n",
       "\n",
       "   Trimmed Duration (s)  Index  \n",
       "0              0.278639      0  \n",
       "1              0.132472      1  \n",
       "2              0.278639      2  \n",
       "3              0.301859      3  \n",
       "4              0.125170      4  "
      ]
     },
     "execution_count": 2,
     "metadata": {},
     "output_type": "execute_result"
    }
   ],
   "source": [
    "df = pd.read_csv(\"D:\\\\Instrument Sounds\\\\Beat Box Samples\\\\AVP_Dataset\\\\Image Dataset\\\\Audio_details.csv\")\n",
    "df.head()"
   ]
  },
  {
   "cell_type": "code",
   "execution_count": 3,
   "id": "cbdf8c0a",
   "metadata": {},
   "outputs": [
    {
     "data": {
      "text/plain": [
       "(9864, 10)"
      ]
     },
     "execution_count": 3,
     "metadata": {},
     "output_type": "execute_result"
    }
   ],
   "source": [
    "df.shape"
   ]
  },
  {
   "cell_type": "markdown",
   "id": "5f3209ab",
   "metadata": {},
   "source": [
    "**Remove Images with errors [White Images]**"
   ]
  },
  {
   "cell_type": "code",
   "execution_count": 4,
   "id": "da68c976",
   "metadata": {},
   "outputs": [],
   "source": [
    "df = df[df['Index'] != 502]\n",
    "df = df[df['Index'] != 4922]\n",
    "df = df[df['Index'] != 8042]\n",
    "df = df[df['Index'] != 4849]\n",
    "df = df[df['Index'] != 801]\n",
    "df = df[df['Index'] != 8073]\n",
    "df = df[df['Index'] != 4694]"
   ]
  },
  {
   "cell_type": "code",
   "execution_count": 5,
   "id": "384ba429",
   "metadata": {},
   "outputs": [
    {
     "data": {
      "text/plain": [
       "(9857, 10)"
      ]
     },
     "execution_count": 5,
     "metadata": {},
     "output_type": "execute_result"
    }
   ],
   "source": [
    "df.shape"
   ]
  },
  {
   "cell_type": "markdown",
   "id": "62e6309b",
   "metadata": {},
   "source": [
    "## Import Images "
   ]
  },
  {
   "cell_type": "markdown",
   "id": "78f4db8c",
   "metadata": {},
   "source": [
    "#### Image Normalization "
   ]
  },
  {
   "cell_type": "markdown",
   "id": "1a80438a",
   "metadata": {},
   "source": [
    "The core idea is to make the pixel values to be between 0 and 1. If it’s already between 0 and 1 then it’s not necessary. If it’s in the range between 0 and 255, then we do the division to serve the purpose aforementioned.\n",
    "\n",
    "Some image display functions require the pixel value to be between 0 and 1."
   ]
  },
  {
   "cell_type": "code",
   "execution_count": 6,
   "id": "2ea6ba10",
   "metadata": {},
   "outputs": [],
   "source": [
    "NUM_CLASSES = len(df['Class'].value_counts())\n",
    "#IMAGE_SIZE = (400, 600, 3)\n",
    "IMAGE_SIZE = (200, 300, 3)\n",
    "\n",
    "def get_imgs(df, dir_, img_size, num_classes):\n",
    "    raw_paths = tf.io.gfile.glob(str(dir_) + '/*')\n",
    "    \n",
    "    #imgs_arr = np.array([])\n",
    "    imgs_arr = []\n",
    "    class_label = []\n",
    "    indicies = []\n",
    "    for path in raw_paths:\n",
    "        \n",
    "        img_index = path.split('_')[-1]\n",
    "        img_index = img_index.split('.')[0]\n",
    "        img_index = int(img_index)\n",
    "        \n",
    "        if(img_index in df['Index'].values):\n",
    "            \n",
    "            #load and resize image\n",
    "            k = keras.preprocessing.image.load_img(path, target_size= img_size)\n",
    "            # make image an array and normalize\n",
    "            img = keras.preprocessing.image.img_to_array(k) / 255\n",
    "            imgs_arr.append(img)\n",
    "            #imgs_arr = np.append(imgs_arr, img)\n",
    "        \n",
    "            #get class\n",
    "            pic_class = df[df['Index'] == img_index]\n",
    "            pic_class = pic_class['Class'].iloc[0]\n",
    "            \n",
    "            class_label.append(pic_class)\n",
    "            \n",
    "            \n",
    "            #get index\n",
    "            indicies.append(img_index)\n",
    "\n",
    "        else: \n",
    "            print('Index ', img_index, ' Not found!')\n",
    "            \n",
    "\n",
    "    return imgs_arr,class_label, indicies\n"
   ]
  },
  {
   "cell_type": "code",
   "execution_count": 7,
   "id": "b51ce61a",
   "metadata": {},
   "outputs": [
    {
     "name": "stdout",
     "output_type": "stream",
     "text": [
      "Index  502  Not found!\n",
      "Index  801  Not found!\n",
      "Index  4694  Not found!\n",
      "Index  4849  Not found!\n",
      "Index  4922  Not found!\n",
      "Index  8042  Not found!\n",
      "Index  8073  Not found!\n"
     ]
    }
   ],
   "source": [
    "images, labels, img_indicies = get_imgs(df, 'D:\\\\Instrument Sounds\\\\Beat Box Samples\\\\AVP_Dataset\\\\Image Dataset\\\\Mel Spectrograms', IMAGE_SIZE, NUM_CLASSES)"
   ]
  },
  {
   "cell_type": "code",
   "execution_count": 8,
   "id": "6141fbe3",
   "metadata": {},
   "outputs": [
    {
     "data": {
      "text/plain": [
       "array(['hhc', 'hho', 'kd', 'sd'], dtype='<U3')"
      ]
     },
     "execution_count": 8,
     "metadata": {},
     "output_type": "execute_result"
    }
   ],
   "source": [
    "np.unique(labels)"
   ]
  },
  {
   "cell_type": "code",
   "execution_count": 9,
   "id": "c30800f9",
   "metadata": {},
   "outputs": [
    {
     "data": {
      "text/plain": [
       "numpy.ndarray"
      ]
     },
     "execution_count": 9,
     "metadata": {},
     "output_type": "execute_result"
    }
   ],
   "source": [
    "type(images[0])"
   ]
  },
  {
   "cell_type": "markdown",
   "id": "26c973c0",
   "metadata": {},
   "source": [
    "## Split Data Sets"
   ]
  },
  {
   "cell_type": "code",
   "execution_count": 10,
   "id": "59c21d2f",
   "metadata": {},
   "outputs": [],
   "source": [
    "#get training and testing sets \n",
    "x_train, x_test, y_train, y_test = train_test_split(images, labels, stratify=labels, test_size=0.2, random_state=47)\n",
    "\n",
    "#make y's into numerical, categorical var\n",
    "le = LabelEncoder()\n",
    "y_train_encoded = le.fit_transform(y_train)\n",
    "y_test_encoded = le.fit_transform(y_test)"
   ]
  },
  {
   "cell_type": "markdown",
   "id": "8fb67845",
   "metadata": {},
   "source": [
    "**I'm deleting the images df to free memory**"
   ]
  },
  {
   "cell_type": "code",
   "execution_count": 11,
   "id": "40ebaec0",
   "metadata": {},
   "outputs": [],
   "source": [
    "x_train = np.array(x_train)\n",
    "x_test = np.array(x_test)"
   ]
  },
  {
   "cell_type": "markdown",
   "id": "0038d445",
   "metadata": {},
   "source": [
    "## Build - Model 1"
   ]
  },
  {
   "cell_type": "code",
   "execution_count": 12,
   "id": "2015a6e3",
   "metadata": {},
   "outputs": [
    {
     "name": "stdout",
     "output_type": "stream",
     "text": [
      "WARNING:tensorflow:From C:\\Users\\micae\\anaconda3\\Lib\\site-packages\\keras\\src\\backend.py:873: The name tf.get_default_graph is deprecated. Please use tf.compat.v1.get_default_graph instead.\n",
      "\n",
      "WARNING:tensorflow:From C:\\Users\\micae\\anaconda3\\Lib\\site-packages\\keras\\src\\layers\\pooling\\max_pooling2d.py:161: The name tf.nn.max_pool is deprecated. Please use tf.nn.max_pool2d instead.\n",
      "\n",
      "WARNING:tensorflow:From C:\\Users\\micae\\anaconda3\\Lib\\site-packages\\keras\\src\\optimizers\\__init__.py:309: The name tf.train.Optimizer is deprecated. Please use tf.compat.v1.train.Optimizer instead.\n",
      "\n",
      "Model: \"sequential\"\n",
      "_________________________________________________________________\n",
      " Layer (type)                Output Shape              Param #   \n",
      "=================================================================\n",
      " conv2d (Conv2D)             (None, 198, 298, 32)      896       \n",
      "                                                                 \n",
      " max_pooling2d (MaxPooling2  (None, 99, 149, 32)       0         \n",
      " D)                                                              \n",
      "                                                                 \n",
      " conv2d_1 (Conv2D)           (None, 97, 147, 128)      36992     \n",
      "                                                                 \n",
      " max_pooling2d_1 (MaxPoolin  (None, 48, 73, 128)       0         \n",
      " g2D)                                                            \n",
      "                                                                 \n",
      " conv2d_2 (Conv2D)           (None, 46, 71, 128)       147584    \n",
      "                                                                 \n",
      " max_pooling2d_2 (MaxPoolin  (None, 23, 35, 128)       0         \n",
      " g2D)                                                            \n",
      "                                                                 \n",
      " conv2d_3 (Conv2D)           (None, 21, 33, 128)       147584    \n",
      "                                                                 \n",
      " max_pooling2d_3 (MaxPoolin  (None, 10, 16, 128)       0         \n",
      " g2D)                                                            \n",
      "                                                                 \n",
      " flatten (Flatten)           (None, 20480)             0         \n",
      "                                                                 \n",
      " dense (Dense)               (None, 1024)              20972544  \n",
      "                                                                 \n",
      " dense_1 (Dense)             (None, 4)                 4100      \n",
      "                                                                 \n",
      "=================================================================\n",
      "Total params: 21309700 (81.29 MB)\n",
      "Trainable params: 21309700 (81.29 MB)\n",
      "Non-trainable params: 0 (0.00 Byte)\n",
      "_________________________________________________________________\n"
     ]
    }
   ],
   "source": [
    "from keras.models import Sequential\n",
    "from keras.layers import Conv2D, MaxPooling2D\n",
    "from keras.layers import Flatten, Dense\n",
    "\n",
    "model = Sequential()\n",
    "model.add(Conv2D(32, (3, 3), activation='relu', input_shape=IMAGE_SIZE))\n",
    "model.add(MaxPooling2D(2, 2))\n",
    "model.add(Conv2D(128, (3, 3), activation='relu'))\n",
    "model.add(MaxPooling2D(2, 2))\n",
    "model.add(Conv2D(128, (3, 3), activation='relu'))\n",
    "model.add(MaxPooling2D(2, 2))\n",
    "model.add(Conv2D(128, (3, 3), activation='relu'))\n",
    "model.add(MaxPooling2D(2, 2))\n",
    "model.add(Flatten())\n",
    "model.add(Dense(1024, activation='relu'))\n",
    "model.add(Dense(4, activation='softmax'))\n",
    "model.compile(optimizer='adam', loss=\"sparse_categorical_crossentropy\", metrics=['accuracy'])\n",
    "model.summary()"
   ]
  },
  {
   "cell_type": "markdown",
   "id": "ecfb8aec",
   "metadata": {},
   "source": [
    "## Test - Model 1"
   ]
  },
  {
   "cell_type": "code",
   "execution_count": 13,
   "id": "2e2469f9",
   "metadata": {},
   "outputs": [
    {
     "name": "stdout",
     "output_type": "stream",
     "text": [
      "Epoch 1/10\n",
      "WARNING:tensorflow:From C:\\Users\\micae\\anaconda3\\Lib\\site-packages\\keras\\src\\utils\\tf_utils.py:492: The name tf.ragged.RaggedTensorValue is deprecated. Please use tf.compat.v1.ragged.RaggedTensorValue instead.\n",
      "\n",
      "WARNING:tensorflow:From C:\\Users\\micae\\anaconda3\\Lib\\site-packages\\keras\\src\\engine\\base_layer_utils.py:384: The name tf.executing_eagerly_outside_functions is deprecated. Please use tf.compat.v1.executing_eagerly_outside_functions instead.\n",
      "\n",
      "789/789 [==============================] - 456s 574ms/step - loss: 0.7388 - accuracy: 0.7195 - val_loss: 0.6618 - val_accuracy: 0.7348\n",
      "Epoch 2/10\n",
      "789/789 [==============================] - 454s 575ms/step - loss: 0.4797 - accuracy: 0.8145 - val_loss: 0.4167 - val_accuracy: 0.8448\n",
      "Epoch 3/10\n",
      "789/789 [==============================] - 440s 557ms/step - loss: 0.3440 - accuracy: 0.8704 - val_loss: 0.4841 - val_accuracy: 0.8382\n",
      "Epoch 4/10\n",
      "789/789 [==============================] - 450s 570ms/step - loss: 0.2400 - accuracy: 0.9152 - val_loss: 0.3350 - val_accuracy: 0.8879\n",
      "Epoch 5/10\n",
      "789/789 [==============================] - 452s 573ms/step - loss: 0.1628 - accuracy: 0.9438 - val_loss: 0.2772 - val_accuracy: 0.9123\n",
      "Epoch 6/10\n",
      "789/789 [==============================] - 439s 557ms/step - loss: 0.1189 - accuracy: 0.9571 - val_loss: 0.2821 - val_accuracy: 0.9113\n",
      "Epoch 7/10\n",
      "789/789 [==============================] - 453s 574ms/step - loss: 0.0857 - accuracy: 0.9682 - val_loss: 0.3587 - val_accuracy: 0.9026\n",
      "Epoch 8/10\n",
      "789/789 [==============================] - 437s 554ms/step - loss: 0.0639 - accuracy: 0.9786 - val_loss: 0.3713 - val_accuracy: 0.9102\n"
     ]
    }
   ],
   "source": [
    "#set up callback to stop training when highest val accuarcy is achieved\n",
    "epoch_acc_callback = keras.callbacks.EarlyStopping(monitor='val_accuracy',patience=3)\n",
    "\n",
    "#set up stop checkpoint to make sure we save the best model \n",
    "model_filePath = \"D:\\\\Instrument Sounds\\\\Beat Box Samples\\\\AVP_Dataset\\Model\\\\BB_Model_Best.keras\"\n",
    "best_model_checkpoint = keras.callbacks.ModelCheckpoint(\n",
    "    filepath=model_filePath,\n",
    "    monitor='val_accuracy',\n",
    "    mode='max',\n",
    "    save_best_only=True)\n",
    "\n",
    "hist = model.fit(x_train, y_train_encoded, validation_data=(x_test, y_test_encoded), batch_size=10, epochs=10, callbacks = [epoch_acc_callback,best_model_checkpoint])"
   ]
  },
  {
   "cell_type": "markdown",
   "id": "9d451357",
   "metadata": {},
   "source": [
    "## Validation Results - Model 1"
   ]
  },
  {
   "cell_type": "code",
   "execution_count": 14,
   "id": "9148740d",
   "metadata": {},
   "outputs": [
    {
     "data": {
      "text/plain": [
       "[]"
      ]
     },
     "execution_count": 14,
     "metadata": {},
     "output_type": "execute_result"
    },
    {
     "data": {
      "image/png": "[encoded data removed]",
      "text/plain": [
       "<Figure size 640x480 with 1 Axes>"
      ]
     },
     "metadata": {},
     "output_type": "display_data"
    }
   ],
   "source": [
    "acc = hist.history['accuracy']\n",
    "val_acc = hist.history['val_accuracy']\n",
    "epochs = range(1, len(acc) + 1)\n",
    "\n",
    "plt.plot(epochs, acc, '-', label='Training Accuracy')\n",
    "plt.plot(epochs, val_acc, ':', label='Validation Accuracy')\n",
    "plt.title('Training and Validation Accuracy')\n",
    "plt.xlabel('Epoch')\n",
    "plt.ylabel('Accuracy')\n",
    "plt.legend(loc='lower right')\n",
    "plt.plot()"
   ]
  },
  {
   "cell_type": "code",
   "execution_count": 15,
   "id": "232b8280",
   "metadata": {},
   "outputs": [],
   "source": [
    "#hist.model.save(\"D:\\\\Instrument Sounds\\\\Beat Box Samples\\\\AVP_Dataset\\Model\\\\BB_Model_Best.keras\")"
   ]
  },
  {
   "cell_type": "code",
   "execution_count": 16,
   "id": "b2dd634b",
   "metadata": {},
   "outputs": [
    {
     "name": "stdout",
     "output_type": "stream",
     "text": [
      "62/62 [==============================] - 25s 399ms/step\n"
     ]
    }
   ],
   "source": [
    "from sklearn.metrics import confusion_matrix\n",
    "import seaborn as sns\n",
    "sns.set()\n",
    "\n",
    "y_predicted = hist.model.predict(x_test)"
   ]
  },
  {
   "cell_type": "code",
   "execution_count": 17,
   "id": "9151ddb8",
   "metadata": {},
   "outputs": [],
   "source": [
    "#return max index (max index == predicted class)\n",
    "def encode_y_test(predicted_y):\n",
    "    y_predicted_encoded = []\n",
    "    for i in range(len(predicted_y)):\n",
    "        y_predicted_encoded.append(predicted_y[i].argmax())\n",
    "    return np.array(y_predicted_encoded)"
   ]
  },
  {
   "cell_type": "markdown",
   "id": "d688b388",
   "metadata": {},
   "source": [
    "**y_predicted gives the probability of a class**"
   ]
  },
  {
   "cell_type": "markdown",
   "id": "dde35a4c",
   "metadata": {},
   "source": [
    "**Todo: make a test set with clips of my own and stuff from YouTube**"
   ]
  },
  {
   "cell_type": "code",
   "execution_count": 18,
   "id": "1999b5c9",
   "metadata": {},
   "outputs": [
    {
     "data": {
      "text/plain": [
       "Text(110.44999999999997, 0.5, 'Actual label')"
      ]
     },
     "execution_count": 18,
     "metadata": {},
     "output_type": "execute_result"
    },
    {
     "data": {
      "image/png": "[encoded data removed]",
      "text/plain": [
       "<Figure size 640x480 with 1 Axes>"
      ]
     },
     "metadata": {},
     "output_type": "display_data"
    }
   ],
   "source": [
    "mat = confusion_matrix(y_test_encoded, encode_y_test(y_predicted))\n",
    "class_labels = list(np.unique(labels))\n",
    "\n",
    "sns.heatmap(mat, square=True, annot=True, fmt='d', cbar=False, cmap='Blues',\n",
    "            xticklabels=class_labels,\n",
    "            yticklabels=class_labels)\n",
    "\n",
    "plt.xlabel('Predicted label')\n",
    "plt.ylabel('Actual label')"
   ]
  },
  {
   "cell_type": "code",
   "execution_count": null,
   "id": "643ab596",
   "metadata": {},
   "outputs": [],
   "source": []
  }
 ],
 "metadata": {
  "kernelspec": {
   "display_name": "Python 3 (ipykernel)",
   "language": "python",
   "name": "python3"
  },
  "language_info": {
   "codemirror_mode": {
    "name": "ipython",
    "version": 3
   },
   "file_extension": ".py",
   "mimetype": "text/x-python",
   "name": "python",
   "nbconvert_exporter": "python",
   "pygments_lexer": "ipython3",
   "version": "3.11.5"
  }
 },
 "nbformat": 4,
 "nbformat_minor": 5
}
